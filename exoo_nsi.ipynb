{
 "metadata": {
  "language_info": {
   "codemirror_mode": {
    "name": "ipython",
    "version": 3
   },
   "file_extension": ".py",
   "mimetype": "text/x-python",
   "name": "python",
   "nbconvert_exporter": "python",
   "pygments_lexer": "ipython3",
   "version": "3.8.2"
  },
  "orig_nbformat": 2,
  "kernelspec": {
   "name": "python382jvsc74a57bd02db524e06e9f5f4ffedc911c917cb75e12dbc923643829bf417064a77eb14d37",
   "display_name": "Python 3.8.2 64-bit"
  }
 },
 "nbformat": 4,
 "nbformat_minor": 2,
 "cells": [
  {
   "source": [
    "# Exercice 1) Tri par fusion"
   ],
   "cell_type": "markdown",
   "metadata": {}
  },
  {
   "cell_type": "code",
   "execution_count": 5,
   "metadata": {},
   "outputs": [
    {
     "output_type": "stream",
     "name": "stdout",
     "text": [
      "1\n2\n2\n3\n4\n5\n6\n6\n8\n8\n9\n9\n9\n"
     ]
    }
   ],
   "source": [
    "def fusion(l1 : list, l2 : list):\n",
    "    listeFinale = []\n",
    "    indexListe1 = 0 \n",
    "    indexListe2 = 0\n",
    "    while indexListe1 < len(l1) and indexListe2 < len(l2):\n",
    "        if l1[indexListe1] <= l2[indexListe2]:\n",
    "            listeFinale.append(l1[indexListe1])\n",
    "            indexListe1 += 1\n",
    "        else:\n",
    "            listeFinale.append(l2[indexListe2])\n",
    "            indexListe2 += 1\n",
    "    if l1:\n",
    "        listeFinale.extend(l1[indexListe1:])\n",
    "    if l2:\n",
    "        listeFinale.extend(l2[indexListe2:])\n",
    "    return listeFinale\n",
    "resultat = fusion([3,5,6,8,9],[1,2,2,4,6,8,9,9])\n",
    "for nombre in resultat:\n",
    "    print(nombre)"
   ]
  },
  {
   "source": [
    "# Exercice 2) Ordre lexicographique"
   ],
   "cell_type": "markdown",
   "metadata": {}
  },
  {
   "source": [],
   "cell_type": "markdown",
   "metadata": {}
  },
  {
   "cell_type": "code",
   "execution_count": 10,
   "metadata": {},
   "outputs": [
    {
     "output_type": "stream",
     "name": "stdout",
     "text": [
      "anannas\nbaoabab\nfontaine\npelican\nvoiture\nzoo\n"
     ]
    }
   ],
   "source": [
    "def ordreAlphabetique(a,b):\n",
    "    alpha = \"AaàBbCcDdEeéèFfGgHhIiJjKkLlMmNnOoPpQqRrSsTtUuVvWwXxYyZz\"\n",
    "    if alpha.index(a) == alpha.index(b):\n",
    "        return 0\n",
    "    elif alpha.index(a) < alpha.index(b):\n",
    "        return -1  \n",
    "    return 1\n",
    "\n",
    "def ordreLexicographique(mot1 : str, mot2: str):\n",
    "    longueurPetitMot = 0\n",
    "    if (len(mot1) <= len(mot2)):\n",
    "        longueurPetitMot = len(mot1)\n",
    "    else:\n",
    "        longueurPetitMot = len(mot2)\n",
    "    for i in range(longueurPetitMot):\n",
    "        if (mot1[i] == mot2[i]): continue\n",
    "        if (ordreAlphabetique(mot1[i], mot2[i]) == -1): return -1\n",
    "        return 1\n",
    "    if len(mot1) == len(mot2): return 0\n",
    "    if len(mot1) < len(mot2): return -1\n",
    "    return 1\n",
    "    \n",
    "def triLexicographique(listeMots : list):\n",
    "    for i in range(len(listeMots) - 1):\n",
    "        indexMini = i\n",
    "        for j in range(i + 1, len(listeMots)):\n",
    "            if ordreLexicographique(listeMots[j], listeMots[indexMini]) == -1:\n",
    "                indexMini = j\n",
    "        listeMots[i], listeMots[indexMini] = listeMots[indexMini], listeMots[i]\n",
    "    return listeMots\n",
    "        \n",
    "resultat = triLexicographique([\"baoabab\", \"anannas\", \"voiture\", \"pelican\", \"zoo\", \"fontaine\"])\n",
    "for mots in resultat:\n",
    "    print(mots)\n"
   ]
  },
  {
   "source": [
    "# Exercices tri par insertion et par selection"
   ],
   "cell_type": "markdown",
   "metadata": {}
  },
  {
   "source": [
    "## Exercice 1)"
   ],
   "cell_type": "markdown",
   "metadata": {}
  },
  {
   "cell_type": "code",
   "execution_count": 17,
   "metadata": {},
   "outputs": [
    {
     "output_type": "stream",
     "name": "stdout",
     "text": [
      "1\n2\n4\n4\n5\n6\n7\n8\n9\n"
     ]
    }
   ],
   "source": [
    "def triParInsertion(t : list):\n",
    "    for index in range(len(t)):\n",
    "        valeurInserer = t[index]\n",
    "        i = index\n",
    "        while i > 0 and valeurInserer < t[i - 1]:\n",
    "            t[i] = t[i - 1]\n",
    "            i -= 1\n",
    "        t[i] = valeurInserer\n",
    "    return t\n",
    "resulat = triParInsertion([2,4,1,8,6,5,7,9,4])\n",
    "for nb in resulat:\n",
    "    print(nb)\n",
    "        "
   ]
  },
  {
   "source": [
    "## Exercice 2)"
   ],
   "cell_type": "markdown",
   "metadata": {}
  },
  {
   "cell_type": "code",
   "execution_count": 24,
   "metadata": {
    "tags": []
   },
   "outputs": [
    {
     "output_type": "stream",
     "name": "stdout",
     "text": [
      "678\n1449\n1544\n1911\n3911\n4330\n6460\n7536\n10772\n11501\n11616\n11759\n12316\n12385\n12490\n14227\n16108\n16130\n16569\n16801\n17973\n20507\n20670\n21044\n21162\n22275\n22962\n25842\n26551\n28142\n31622\n31903\n32911\n35318\n35426\n38159\n38400\n42620\n42906\n43220\n43583\n43737\n44846\n44927\n45042\n45277\n45650\n46495\n47383\n47397\n47750\n49474\n50819\n51950\n53139\n53239\n53795\n55145\n56500\n57554\n58335\n60035\n64635\n65234\n65413\n67311\n68258\n68559\n69117\n69509\n69727\n70428\n70887\n71435\n72219\n73433\n73453\n75266\n75819\n75864\n78015\n78207\n78519\n81769\n82515\n83610\n84001\n85663\n87532\n88008\n88206\n89562\n91673\n92191\n93872\n94221\n95076\n96753\n98558\n99724\n"
     ]
    }
   ],
   "source": [
    "from random import randint\n",
    "liste = [randint(0,99999) for i in range(100)]\n",
    "triParInsertion(liste)\n",
    "for nombre in liste:\n",
    "    print(nombre)"
   ]
  },
  {
   "source": [
    "## Exercice 3)"
   ],
   "cell_type": "markdown",
   "metadata": {}
  },
  {
   "cell_type": "code",
   "execution_count": 1,
   "metadata": {},
   "outputs": [
    {
     "output_type": "stream",
     "name": "stdout",
     "text": [
      "sevenup   1\ncoca   2\noasis   2\nfanta   3\nsprite   3\ncidre   4\ncoca   2\nfanta   3\noasis   2\nsevenup   1\nsprite   3\ncidre   4\n"
     ]
    }
   ],
   "source": [
    "\n",
    "def triParInsertionVersionDeListe(listeDeListe):\n",
    "    for i in range(0, len(listeDeListe)):\n",
    "        cle = [listeDeListe[i][0], listeDeListe[i][1]]\n",
    "        k = i\n",
    "        while k > 0 and listeDeListe[k-1][1] > cle[1]:\n",
    "            listeDeListe[k][1] = listeDeListe[k-1][1]\n",
    "            listeDeListe[k][0] = listeDeListe[k-1][0]\n",
    "            k -= 1\n",
    "        listeDeListe[k][0], listeDeListe[k][1] = cle[0], cle[1]\n",
    "    return listeDeListe\n",
    "\n",
    "testTriParInsertionVersionDeListe = triParInsertionVersionDeListe([['coca' ,2], ['fanta',3], ['oasis' ,2], ['sevenup',1], ['sprite',3], ['cidre' ,4]])\n",
    "\n",
    "for el in testTriParInsertionVersionDeListe:\n",
    "    print(el[0], \" \", el[1])\n",
    "\n"
   ]
  },
  {
   "cell_type": "code",
   "execution_count": 5,
   "metadata": {},
   "outputs": [
    {
     "output_type": "stream",
     "name": "stdout",
     "text": [
      "sevenup   1\noasis   2\ncoca   2\nfanta   3\nsprite   3\ncidre   4\n"
     ]
    }
   ],
   "source": [
    "def triParSelectionVersionListeDeListe(listeDeListe):\n",
    "    for i in range(len(listeDeListe)):\n",
    "        m = i\n",
    "        for j in range(i  + 1, len(listeDeListe)):\n",
    "            if (listeDeListe[j][1] < listeDeListe[m][1]): m = j\n",
    "        listeDeListe[m], listeDeListe[i] = listeDeListe[i], listeDeListe[m]\n",
    "    return listeDeListe\n",
    "\n",
    "testTriParSelectionVersionListeDeListe  = triParSelectionVersionListeDeListe([['coca' ,2], ['fanta',3], ['oasis' ,2], ['sevenup',1], ['sprite',3], ['cidre' ,4]])\n",
    "for element in testTriParSelectionVersionListeDeListe:\n",
    "    print(element[0], \" \", element[1])"
   ]
  },
  {
   "source": [
    "### On constate a l'affichage que le resultat affiché par les deux scripts est diférent.\n",
    "### Dans les deux cas la liste de liste est trié\n",
    "### On peut dire que le script 1 est stable mais pas le script 2."
   ],
   "cell_type": "markdown",
   "metadata": {}
  }
 ]
}